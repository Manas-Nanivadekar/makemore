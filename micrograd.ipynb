{
  "nbformat": 4,
  "nbformat_minor": 0,
  "metadata": {
    "colab": {
      "provenance": []
    },
    "kernelspec": {
      "name": "python3",
      "display_name": "Python 3"
    },
    "language_info": {
      "name": "python"
    }
  },
  "cells": [
    {
      "cell_type": "code",
      "execution_count": null,
      "metadata": {
        "id": "8CjFQGGc7zeS"
      },
      "outputs": [],
      "source": [
        "import math\n",
        "import numpy as np\n",
        "import matplotlib.pyplot as plt\n",
        "%matplotlib inline"
      ]
    },
    {
      "cell_type": "code",
      "source": [
        "class Value:\n",
        "  def __init__(self, data, _children=(), _op='', label=''):\n",
        "    self.data = data\n",
        "    self.grad = 0.0\n",
        "    self._backward = lambda: None\n",
        "    self._prev = set(_children)\n",
        "    self._op = _op\n",
        "    self.label = label\n",
        "\n",
        "  def __repr__(self):\n",
        "    return f\"Value(data={self.data})\"\n",
        "\n",
        "  def __add__(self, other):\n",
        "    other = other if isinstance(other, Value) else Value(other)\n",
        "    out = Value(self.data + other.data, (self, other), '+')\n",
        "\n",
        "    def _backward():\n",
        "      self.grad += 1.0 * out.grad\n",
        "      other.grad += 1.0 * out.grad\n",
        "    out._backward = _backward\n",
        "\n",
        "    return out\n",
        "\n",
        "  def __mul__(self, other):\n",
        "    other = other if isinstance(other, Value) else Value(other)\n",
        "    out =  Value(self.data * other.data, (self, other), '*')\n",
        "\n",
        "    def _backward():\n",
        "      self.grad += other.data * out.grad\n",
        "      other.grad += self.data * out.grad\n",
        "    out._backward = _backward\n",
        "\n",
        "    return out\n",
        "\n",
        "  def __pow__(self, other):\n",
        "    assert isinstance(other, (int, float))\n",
        "    out = Value(self.data**other, (self, ), f'**{other}')\n",
        "\n",
        "    def _backward():\n",
        "      self.grad += other * (self.data ** (other - 1)) * out.grad\n",
        "    out._backward = _backward\n",
        "\n",
        "    return out\n",
        "\n",
        "  def __rmul__(self,other):\n",
        "    return self * other\n",
        "\n",
        "  def __truediv__(self, other):\n",
        "    return self * other**-1\n",
        "\n",
        "  def __neg__(self):\n",
        "    return self * -1\n",
        "\n",
        "  def __sub__(self, other):\n",
        "    return self + (-other)\n",
        "\n",
        "  def tanh(self):\n",
        "    n = self.data\n",
        "    t = (math.exp(2*n) - 1)/(math.exp(2*n)+1)\n",
        "    out = Value(t, (self, ), 'tanh')\n",
        "\n",
        "    def _backward():\n",
        "      self.grad += (1 - t**2) * out.grad\n",
        "    out._backward = _backward\n",
        "\n",
        "    return out\n",
        "\n",
        "  def exp(self):\n",
        "    x = self.data\n",
        "    out = Value(math.exp(x), (self, ), 'exp')\n",
        "\n",
        "    def _backward():\n",
        "      self.grad += out.grad * out.grad\n",
        "    out._backward = _backward\n",
        "\n",
        "    return out\n",
        "\n",
        "  def backward(self):\n",
        "    topo = []\n",
        "    visited = set()\n",
        "    def build_topo(v):\n",
        "      if v not in visited:\n",
        "        visited.add(v)\n",
        "        for child in v._prev:\n",
        "          build_topo(child)\n",
        "        topo.append(v)\n",
        "    build_topo(self)\n",
        "\n",
        "    self.grad = 1.0\n",
        "    for node in reversed(topo):\n",
        "      node._backward()"
      ],
      "metadata": {
        "id": "ZirvZe7s8Avn"
      },
      "execution_count": null,
      "outputs": []
    },
    {
      "cell_type": "code",
      "source": [
        "a = Value(2.0)\n",
        "b = Value(4.0)\n",
        "a - b"
      ],
      "metadata": {
        "colab": {
          "base_uri": "https://localhost:8080/"
        },
        "id": "y7jBnreRvWAi",
        "outputId": "aa0a907a-e9fe-4bc5-d65f-bf4f4794682d"
      },
      "execution_count": null,
      "outputs": [
        {
          "output_type": "execute_result",
          "data": {
            "text/plain": [
              "Value(data=-2.0)"
            ]
          },
          "metadata": {},
          "execution_count": 3
        }
      ]
    },
    {
      "cell_type": "code",
      "source": [],
      "metadata": {
        "id": "rC7CnRj5xXEn"
      },
      "execution_count": null,
      "outputs": []
    },
    {
      "cell_type": "code",
      "source": [
        "from graphviz import Digraph\n",
        "\n",
        "def trace(root):\n",
        "  # builds a set of all nodes and edges in a graph\n",
        "  nodes, edges = set(), set()\n",
        "\n",
        "  def build(v):\n",
        "    if v not in nodes:\n",
        "      nodes.add(v)\n",
        "      for child in v._prev:\n",
        "        edges.add((child, v))\n",
        "        build(child)\n",
        "  build(root)\n",
        "  return nodes, edges\n",
        "\n",
        "def draw_dot(root):\n",
        "  dot = Digraph(format='svg', graph_attr={'rankdir': 'LR'}) # LR = Left to Right\n",
        "\n",
        "  nodes, edges = trace(root)\n",
        "  for n in nodes:\n",
        "    uid = str(id(n))\n",
        "    # for any value in graph, create reactangular ('record') node for it\n",
        "    dot.node(name = uid, label = \"{%s | data %.4f | grad %.4f}\" % (n.label, n.data, n.grad ), shape='record')\n",
        "    if n._op:\n",
        "      dot.node(name = uid + n._op, label = n._op)\n",
        "      dot.edge(uid + n._op, uid)\n",
        "  for n1, n2 in edges:\n",
        "    dot.edge(str(id(n1)), str(id(n2)) + n2._op)\n",
        "\n",
        "  return dot"
      ],
      "metadata": {
        "id": "tag7KwUga1pb"
      },
      "execution_count": null,
      "outputs": []
    },
    {
      "cell_type": "code",
      "source": [
        "x1 = Value(2.0, label='x1')\n",
        "x2 = Value(0.0, label='x2')\n",
        "w1 = Value(-3.0, label='w1')\n",
        "w2 = Value(1.0, label='w2')\n",
        "b = Value(6.8813735870195432, label='b')\n",
        "\n",
        "x1w1 = x1*w1; x1w1.label = 'x1*w1'\n",
        "x2w2 = x2*w2; x2w2.label = 'x2*w2'\n",
        "x1w1x2w2 = x1w1 + x2w2; x1w1x2w2.label = 'x1w1 + x2w2'\n",
        "n = x1w1x2w2 + b; n.label = 'n'\n",
        "o = n.tanh(); o.label = 'o'\n",
        "o.backward()"
      ],
      "metadata": {
        "id": "3C8y-YWKTC-l"
      },
      "execution_count": null,
      "outputs": []
    },
    {
      "cell_type": "code",
      "source": [
        "draw_dot(o)"
      ],
      "metadata": {
        "colab": {
          "base_uri": "https://localhost:8080/",
          "height": 321
        },
        "id": "nxzI3PllaeKA",
        "outputId": "b7a01590-d6e1-4b70-a7b1-2b2b8e3cc5cf"
      },
      "execution_count": null,
      "outputs": [
        {
          "output_type": "execute_result",
          "data": {
            "image/svg+xml": "<?xml version=\"1.0\" encoding=\"UTF-8\" standalone=\"no\"?>\n<!DOCTYPE svg PUBLIC \"-//W3C//DTD SVG 1.1//EN\"\n \"http://www.w3.org/Graphics/SVG/1.1/DTD/svg11.dtd\">\n<!-- Generated by graphviz version 2.43.0 (0)\n -->\n<!-- Title: %3 Pages: 1 -->\n<svg width=\"1561pt\" height=\"210pt\"\n viewBox=\"0.00 0.00 1561.00 210.00\" xmlns=\"http://www.w3.org/2000/svg\" xmlns:xlink=\"http://www.w3.org/1999/xlink\">\n<g id=\"graph0\" class=\"graph\" transform=\"scale(1 1) rotate(0) translate(4 206)\">\n<title>%3</title>\n<polygon fill=\"white\" stroke=\"transparent\" points=\"-4,4 -4,-206 1557,-206 1557,4 -4,4\"/>\n<!-- 132620911617552 -->\n<g id=\"node1\" class=\"node\">\n<title>132620911617552</title>\n<polygon fill=\"none\" stroke=\"black\" points=\"4,-165.5 4,-201.5 196,-201.5 196,-165.5 4,-165.5\"/>\n<text text-anchor=\"middle\" x=\"19\" y=\"-179.8\" font-family=\"Times,serif\" font-size=\"14.00\">x2</text>\n<polyline fill=\"none\" stroke=\"black\" points=\"34,-165.5 34,-201.5 \"/>\n<text text-anchor=\"middle\" x=\"74\" y=\"-179.8\" font-family=\"Times,serif\" font-size=\"14.00\">data 0.0000</text>\n<polyline fill=\"none\" stroke=\"black\" points=\"114,-165.5 114,-201.5 \"/>\n<text text-anchor=\"middle\" x=\"155\" y=\"-179.8\" font-family=\"Times,serif\" font-size=\"14.00\">grad 0.5000</text>\n</g>\n<!-- 132620912480144* -->\n<g id=\"node15\" class=\"node\">\n<title>132620912480144*</title>\n<ellipse fill=\"none\" stroke=\"black\" cx=\"263\" cy=\"-128.5\" rx=\"27\" ry=\"18\"/>\n<text text-anchor=\"middle\" x=\"263\" y=\"-124.8\" font-family=\"Times,serif\" font-size=\"14.00\">*</text>\n</g>\n<!-- 132620911617552&#45;&gt;132620912480144* -->\n<g id=\"edge9\" class=\"edge\">\n<title>132620911617552&#45;&gt;132620912480144*</title>\n<path fill=\"none\" stroke=\"black\" d=\"M172.53,-165.44C181.84,-162.67 191.2,-159.67 200,-156.5 210.53,-152.71 221.75,-147.9 231.72,-143.33\"/>\n<polygon fill=\"black\" stroke=\"black\" points=\"233.25,-146.48 240.82,-139.07 230.28,-140.14 233.25,-146.48\"/>\n</g>\n<!-- 132620912433744 -->\n<g id=\"node2\" class=\"node\">\n<title>132620912433744</title>\n<polygon fill=\"none\" stroke=\"black\" points=\"672,-82.5 672,-118.5 931,-118.5 931,-82.5 672,-82.5\"/>\n<text text-anchor=\"middle\" x=\"718\" y=\"-96.8\" font-family=\"Times,serif\" font-size=\"14.00\">x1w1 + x2w2</text>\n<polyline fill=\"none\" stroke=\"black\" points=\"764,-82.5 764,-118.5 \"/>\n<text text-anchor=\"middle\" x=\"806.5\" y=\"-96.8\" font-family=\"Times,serif\" font-size=\"14.00\">data &#45;6.0000</text>\n<polyline fill=\"none\" stroke=\"black\" points=\"849,-82.5 849,-118.5 \"/>\n<text text-anchor=\"middle\" x=\"890\" y=\"-96.8\" font-family=\"Times,serif\" font-size=\"14.00\">grad 0.5000</text>\n</g>\n<!-- 132620902404752+ -->\n<g id=\"node6\" class=\"node\">\n<title>132620902404752+</title>\n<ellipse fill=\"none\" stroke=\"black\" cx=\"994\" cy=\"-72.5\" rx=\"27\" ry=\"18\"/>\n<text text-anchor=\"middle\" x=\"994\" y=\"-68.8\" font-family=\"Times,serif\" font-size=\"14.00\">+</text>\n</g>\n<!-- 132620912433744&#45;&gt;132620902404752+ -->\n<g id=\"edge14\" class=\"edge\">\n<title>132620912433744&#45;&gt;132620902404752+</title>\n<path fill=\"none\" stroke=\"black\" d=\"M925.03,-82.49C936.7,-80.77 947.77,-79.15 957.46,-77.72\"/>\n<polygon fill=\"black\" stroke=\"black\" points=\"958.01,-81.18 967.4,-76.26 957,-74.25 958.01,-81.18\"/>\n</g>\n<!-- 132620912433744+ -->\n<g id=\"node3\" class=\"node\">\n<title>132620912433744+</title>\n<ellipse fill=\"none\" stroke=\"black\" cx=\"609\" cy=\"-100.5\" rx=\"27\" ry=\"18\"/>\n<text text-anchor=\"middle\" x=\"609\" y=\"-96.8\" font-family=\"Times,serif\" font-size=\"14.00\">+</text>\n</g>\n<!-- 132620912433744+&#45;&gt;132620912433744 -->\n<g id=\"edge1\" class=\"edge\">\n<title>132620912433744+&#45;&gt;132620912433744</title>\n<path fill=\"none\" stroke=\"black\" d=\"M636.09,-100.5C643.58,-100.5 652.3,-100.5 661.75,-100.5\"/>\n<polygon fill=\"black\" stroke=\"black\" points=\"661.84,-104 671.84,-100.5 661.84,-97 661.84,-104\"/>\n</g>\n<!-- 132621192467536 -->\n<g id=\"node4\" class=\"node\">\n<title>132621192467536</title>\n<polygon fill=\"none\" stroke=\"black\" points=\"2.5,-110.5 2.5,-146.5 197.5,-146.5 197.5,-110.5 2.5,-110.5\"/>\n<text text-anchor=\"middle\" x=\"19\" y=\"-124.8\" font-family=\"Times,serif\" font-size=\"14.00\">w2</text>\n<polyline fill=\"none\" stroke=\"black\" points=\"35.5,-110.5 35.5,-146.5 \"/>\n<text text-anchor=\"middle\" x=\"75.5\" y=\"-124.8\" font-family=\"Times,serif\" font-size=\"14.00\">data 1.0000</text>\n<polyline fill=\"none\" stroke=\"black\" points=\"115.5,-110.5 115.5,-146.5 \"/>\n<text text-anchor=\"middle\" x=\"156.5\" y=\"-124.8\" font-family=\"Times,serif\" font-size=\"14.00\">grad 0.0000</text>\n</g>\n<!-- 132621192467536&#45;&gt;132620912480144* -->\n<g id=\"edge12\" class=\"edge\">\n<title>132621192467536&#45;&gt;132620912480144*</title>\n<path fill=\"none\" stroke=\"black\" d=\"M197.91,-128.5C207.65,-128.5 217.05,-128.5 225.52,-128.5\"/>\n<polygon fill=\"black\" stroke=\"black\" points=\"225.7,-132 235.7,-128.5 225.7,-125 225.7,-132\"/>\n</g>\n<!-- 132620902404752 -->\n<g id=\"node5\" class=\"node\">\n<title>132620902404752</title>\n<polygon fill=\"none\" stroke=\"black\" points=\"1057,-54.5 1057,-90.5 1242,-90.5 1242,-54.5 1057,-54.5\"/>\n<text text-anchor=\"middle\" x=\"1068.5\" y=\"-68.8\" font-family=\"Times,serif\" font-size=\"14.00\">n</text>\n<polyline fill=\"none\" stroke=\"black\" points=\"1080,-54.5 1080,-90.5 \"/>\n<text text-anchor=\"middle\" x=\"1120\" y=\"-68.8\" font-family=\"Times,serif\" font-size=\"14.00\">data 0.8814</text>\n<polyline fill=\"none\" stroke=\"black\" points=\"1160,-54.5 1160,-90.5 \"/>\n<text text-anchor=\"middle\" x=\"1201\" y=\"-68.8\" font-family=\"Times,serif\" font-size=\"14.00\">grad 0.5000</text>\n</g>\n<!-- 132620911554256tanh -->\n<g id=\"node9\" class=\"node\">\n<title>132620911554256tanh</title>\n<ellipse fill=\"none\" stroke=\"black\" cx=\"1305\" cy=\"-72.5\" rx=\"27\" ry=\"18\"/>\n<text text-anchor=\"middle\" x=\"1305\" y=\"-68.8\" font-family=\"Times,serif\" font-size=\"14.00\">tanh</text>\n</g>\n<!-- 132620902404752&#45;&gt;132620911554256tanh -->\n<g id=\"edge6\" class=\"edge\">\n<title>132620902404752&#45;&gt;132620911554256tanh</title>\n<path fill=\"none\" stroke=\"black\" d=\"M1242.01,-72.5C1251.01,-72.5 1259.74,-72.5 1267.66,-72.5\"/>\n<polygon fill=\"black\" stroke=\"black\" points=\"1267.91,-76 1277.91,-72.5 1267.91,-69 1267.91,-76\"/>\n</g>\n<!-- 132620902404752+&#45;&gt;132620902404752 -->\n<g id=\"edge2\" class=\"edge\">\n<title>132620902404752+&#45;&gt;132620902404752</title>\n<path fill=\"none\" stroke=\"black\" d=\"M1021.04,-72.5C1028.58,-72.5 1037.3,-72.5 1046.57,-72.5\"/>\n<polygon fill=\"black\" stroke=\"black\" points=\"1046.81,-76 1056.81,-72.5 1046.81,-69 1046.81,-76\"/>\n</g>\n<!-- 132620911557776 -->\n<g id=\"node7\" class=\"node\">\n<title>132620911557776</title>\n<polygon fill=\"none\" stroke=\"black\" points=\"709,-27.5 709,-63.5 894,-63.5 894,-27.5 709,-27.5\"/>\n<text text-anchor=\"middle\" x=\"720.5\" y=\"-41.8\" font-family=\"Times,serif\" font-size=\"14.00\">b</text>\n<polyline fill=\"none\" stroke=\"black\" points=\"732,-27.5 732,-63.5 \"/>\n<text text-anchor=\"middle\" x=\"772\" y=\"-41.8\" font-family=\"Times,serif\" font-size=\"14.00\">data 6.8814</text>\n<polyline fill=\"none\" stroke=\"black\" points=\"812,-27.5 812,-63.5 \"/>\n<text text-anchor=\"middle\" x=\"853\" y=\"-41.8\" font-family=\"Times,serif\" font-size=\"14.00\">grad 0.5000</text>\n</g>\n<!-- 132620911557776&#45;&gt;132620902404752+ -->\n<g id=\"edge11\" class=\"edge\">\n<title>132620911557776&#45;&gt;132620902404752+</title>\n<path fill=\"none\" stroke=\"black\" d=\"M894.12,-58.49C916.59,-61.67 939.33,-64.89 957.33,-67.44\"/>\n<polygon fill=\"black\" stroke=\"black\" points=\"956.95,-70.93 967.34,-68.86 957.93,-63.99 956.95,-70.93\"/>\n</g>\n<!-- 132620911554256 -->\n<g id=\"node8\" class=\"node\">\n<title>132620911554256</title>\n<polygon fill=\"none\" stroke=\"black\" points=\"1368,-54.5 1368,-90.5 1553,-90.5 1553,-54.5 1368,-54.5\"/>\n<text text-anchor=\"middle\" x=\"1379.5\" y=\"-68.8\" font-family=\"Times,serif\" font-size=\"14.00\">o</text>\n<polyline fill=\"none\" stroke=\"black\" points=\"1391,-54.5 1391,-90.5 \"/>\n<text text-anchor=\"middle\" x=\"1431\" y=\"-68.8\" font-family=\"Times,serif\" font-size=\"14.00\">data 0.7071</text>\n<polyline fill=\"none\" stroke=\"black\" points=\"1471,-54.5 1471,-90.5 \"/>\n<text text-anchor=\"middle\" x=\"1512\" y=\"-68.8\" font-family=\"Times,serif\" font-size=\"14.00\">grad 1.0000</text>\n</g>\n<!-- 132620911554256tanh&#45;&gt;132620911554256 -->\n<g id=\"edge3\" class=\"edge\">\n<title>132620911554256tanh&#45;&gt;132620911554256</title>\n<path fill=\"none\" stroke=\"black\" d=\"M1332.04,-72.5C1339.58,-72.5 1348.3,-72.5 1357.57,-72.5\"/>\n<polygon fill=\"black\" stroke=\"black\" points=\"1357.81,-76 1367.81,-72.5 1357.81,-69 1357.81,-76\"/>\n</g>\n<!-- 132620912441040 -->\n<g id=\"node10\" class=\"node\">\n<title>132620912441040</title>\n<polygon fill=\"none\" stroke=\"black\" points=\"326,-55.5 326,-91.5 546,-91.5 546,-55.5 326,-55.5\"/>\n<text text-anchor=\"middle\" x=\"352.5\" y=\"-69.8\" font-family=\"Times,serif\" font-size=\"14.00\">x1*w1</text>\n<polyline fill=\"none\" stroke=\"black\" points=\"379,-55.5 379,-91.5 \"/>\n<text text-anchor=\"middle\" x=\"421.5\" y=\"-69.8\" font-family=\"Times,serif\" font-size=\"14.00\">data &#45;6.0000</text>\n<polyline fill=\"none\" stroke=\"black\" points=\"464,-55.5 464,-91.5 \"/>\n<text text-anchor=\"middle\" x=\"505\" y=\"-69.8\" font-family=\"Times,serif\" font-size=\"14.00\">grad 0.5000</text>\n</g>\n<!-- 132620912441040&#45;&gt;132620912433744+ -->\n<g id=\"edge10\" class=\"edge\">\n<title>132620912441040&#45;&gt;132620912433744+</title>\n<path fill=\"none\" stroke=\"black\" d=\"M546.27,-90.75C555.64,-92.23 564.6,-93.65 572.65,-94.92\"/>\n<polygon fill=\"black\" stroke=\"black\" points=\"572.23,-98.4 582.65,-96.5 573.32,-91.48 572.23,-98.4\"/>\n</g>\n<!-- 132620912441040* -->\n<g id=\"node11\" class=\"node\">\n<title>132620912441040*</title>\n<ellipse fill=\"none\" stroke=\"black\" cx=\"263\" cy=\"-73.5\" rx=\"27\" ry=\"18\"/>\n<text text-anchor=\"middle\" x=\"263\" y=\"-69.8\" font-family=\"Times,serif\" font-size=\"14.00\">*</text>\n</g>\n<!-- 132620912441040*&#45;&gt;132620912441040 -->\n<g id=\"edge4\" class=\"edge\">\n<title>132620912441040*&#45;&gt;132620912441040</title>\n<path fill=\"none\" stroke=\"black\" d=\"M290.34,-73.5C297.77,-73.5 306.37,-73.5 315.6,-73.5\"/>\n<polygon fill=\"black\" stroke=\"black\" points=\"315.84,-77 325.84,-73.5 315.84,-70 315.84,-77\"/>\n</g>\n<!-- 132620911617360 -->\n<g id=\"node12\" class=\"node\">\n<title>132620911617360</title>\n<polygon fill=\"none\" stroke=\"black\" points=\"0,-55.5 0,-91.5 200,-91.5 200,-55.5 0,-55.5\"/>\n<text text-anchor=\"middle\" x=\"16.5\" y=\"-69.8\" font-family=\"Times,serif\" font-size=\"14.00\">w1</text>\n<polyline fill=\"none\" stroke=\"black\" points=\"33,-55.5 33,-91.5 \"/>\n<text text-anchor=\"middle\" x=\"75.5\" y=\"-69.8\" font-family=\"Times,serif\" font-size=\"14.00\">data &#45;3.0000</text>\n<polyline fill=\"none\" stroke=\"black\" points=\"118,-55.5 118,-91.5 \"/>\n<text text-anchor=\"middle\" x=\"159\" y=\"-69.8\" font-family=\"Times,serif\" font-size=\"14.00\">grad 1.0000</text>\n</g>\n<!-- 132620911617360&#45;&gt;132620912441040* -->\n<g id=\"edge13\" class=\"edge\">\n<title>132620911617360&#45;&gt;132620912441040*</title>\n<path fill=\"none\" stroke=\"black\" d=\"M200.21,-73.5C209.2,-73.5 217.86,-73.5 225.7,-73.5\"/>\n<polygon fill=\"black\" stroke=\"black\" points=\"225.85,-77 235.85,-73.5 225.85,-70 225.85,-77\"/>\n</g>\n<!-- 132620902408528 -->\n<g id=\"node13\" class=\"node\">\n<title>132620902408528</title>\n<polygon fill=\"none\" stroke=\"black\" points=\"2,-0.5 2,-36.5 198,-36.5 198,-0.5 2,-0.5\"/>\n<text text-anchor=\"middle\" x=\"17\" y=\"-14.8\" font-family=\"Times,serif\" font-size=\"14.00\">x1</text>\n<polyline fill=\"none\" stroke=\"black\" points=\"32,-0.5 32,-36.5 \"/>\n<text text-anchor=\"middle\" x=\"72\" y=\"-14.8\" font-family=\"Times,serif\" font-size=\"14.00\">data 2.0000</text>\n<polyline fill=\"none\" stroke=\"black\" points=\"112,-0.5 112,-36.5 \"/>\n<text text-anchor=\"middle\" x=\"155\" y=\"-14.8\" font-family=\"Times,serif\" font-size=\"14.00\">grad &#45;1.5000</text>\n</g>\n<!-- 132620902408528&#45;&gt;132620912441040* -->\n<g id=\"edge8\" class=\"edge\">\n<title>132620902408528&#45;&gt;132620912441040*</title>\n<path fill=\"none\" stroke=\"black\" d=\"M169.28,-36.5C179.65,-39.61 190.16,-42.98 200,-46.5 210.28,-50.17 221.28,-54.74 231.11,-59.07\"/>\n<polygon fill=\"black\" stroke=\"black\" points=\"229.93,-62.37 240.48,-63.27 232.79,-55.99 229.93,-62.37\"/>\n</g>\n<!-- 132620912480144 -->\n<g id=\"node14\" class=\"node\">\n<title>132620912480144</title>\n<polygon fill=\"none\" stroke=\"black\" points=\"328.5,-110.5 328.5,-146.5 543.5,-146.5 543.5,-110.5 328.5,-110.5\"/>\n<text text-anchor=\"middle\" x=\"355\" y=\"-124.8\" font-family=\"Times,serif\" font-size=\"14.00\">x2*w2</text>\n<polyline fill=\"none\" stroke=\"black\" points=\"381.5,-110.5 381.5,-146.5 \"/>\n<text text-anchor=\"middle\" x=\"421.5\" y=\"-124.8\" font-family=\"Times,serif\" font-size=\"14.00\">data 0.0000</text>\n<polyline fill=\"none\" stroke=\"black\" points=\"461.5,-110.5 461.5,-146.5 \"/>\n<text text-anchor=\"middle\" x=\"502.5\" y=\"-124.8\" font-family=\"Times,serif\" font-size=\"14.00\">grad 0.5000</text>\n</g>\n<!-- 132620912480144&#45;&gt;132620912433744+ -->\n<g id=\"edge7\" class=\"edge\">\n<title>132620912480144&#45;&gt;132620912433744+</title>\n<path fill=\"none\" stroke=\"black\" d=\"M543.84,-111.01C554.01,-109.34 563.76,-107.74 572.44,-106.32\"/>\n<polygon fill=\"black\" stroke=\"black\" points=\"573.17,-109.75 582.47,-104.68 572.04,-102.84 573.17,-109.75\"/>\n</g>\n<!-- 132620912480144*&#45;&gt;132620912480144 -->\n<g id=\"edge5\" class=\"edge\">\n<title>132620912480144*&#45;&gt;132620912480144</title>\n<path fill=\"none\" stroke=\"black\" d=\"M290.34,-128.5C298.51,-128.5 308.08,-128.5 318.36,-128.5\"/>\n<polygon fill=\"black\" stroke=\"black\" points=\"318.39,-132 328.39,-128.5 318.39,-125 318.39,-132\"/>\n</g>\n</g>\n</svg>\n",
            "text/plain": [
              "<graphviz.graphs.Digraph at 0x789e35c93790>"
            ]
          },
          "metadata": {},
          "execution_count": 6
        }
      ]
    },
    {
      "cell_type": "code",
      "source": [
        "x1 = Value(2.0, label='x1')\n",
        "x2 = Value(0.0, label='x2')\n",
        "w1 = Value(-3.0, label='w1')\n",
        "w2 = Value(1.0, label='w2')\n",
        "b = Value(6.8813735870195432, label='b')\n",
        "\n",
        "x1w1 = x1*w1; x1w1.label = 'x1*w1'\n",
        "x2w2 = x2*w2; x2w2.label = 'x2*w2'\n",
        "x1w1x2w2 = x1w1 + x2w2; x1w1x2w2.label = 'x1w1 + x2w2'\n",
        "n = x1w1x2w2 + b; n.label = 'n'\n",
        "# ------\n",
        "e = (2*n).exp()\n",
        "o = (e - 1) / (e + 1)\n",
        "# ------\n",
        "o.label = 'o'\n",
        "o.backward()\n",
        "draw_dot(o)"
      ],
      "metadata": {
        "colab": {
          "base_uri": "https://localhost:8080/",
          "height": 321
        },
        "id": "yibDRSCF0JM0",
        "outputId": "ad32df79-be05-4a93-8de3-86eb745ca721"
      },
      "execution_count": null,
      "outputs": [
        {
          "output_type": "execute_result",
          "data": {
            "image/svg+xml": "<?xml version=\"1.0\" encoding=\"UTF-8\" standalone=\"no\"?>\n<!DOCTYPE svg PUBLIC \"-//W3C//DTD SVG 1.1//EN\"\n \"http://www.w3.org/Graphics/SVG/1.1/DTD/svg11.dtd\">\n<!-- Generated by graphviz version 2.43.0 (0)\n -->\n<!-- Title: %3 Pages: 1 -->\n<svg width=\"2930pt\" height=\"210pt\"\n viewBox=\"0.00 0.00 2930.00 210.00\" xmlns=\"http://www.w3.org/2000/svg\" xmlns:xlink=\"http://www.w3.org/1999/xlink\">\n<g id=\"graph0\" class=\"graph\" transform=\"scale(1 1) rotate(0) translate(4 206)\">\n<title>%3</title>\n<polygon fill=\"white\" stroke=\"transparent\" points=\"-4,4 -4,-206 2926,-206 2926,4 -4,4\"/>\n<!-- 132620902280208 -->\n<g id=\"node1\" class=\"node\">\n<title>132620902280208</title>\n<polygon fill=\"none\" stroke=\"black\" points=\"2737,-80.5 2737,-116.5 2922,-116.5 2922,-80.5 2737,-80.5\"/>\n<text text-anchor=\"middle\" x=\"2748.5\" y=\"-94.8\" font-family=\"Times,serif\" font-size=\"14.00\">o</text>\n<polyline fill=\"none\" stroke=\"black\" points=\"2760,-80.5 2760,-116.5 \"/>\n<text text-anchor=\"middle\" x=\"2800\" y=\"-94.8\" font-family=\"Times,serif\" font-size=\"14.00\">data 0.7071</text>\n<polyline fill=\"none\" stroke=\"black\" points=\"2840,-80.5 2840,-116.5 \"/>\n<text text-anchor=\"middle\" x=\"2881\" y=\"-94.8\" font-family=\"Times,serif\" font-size=\"14.00\">grad 1.0000</text>\n</g>\n<!-- 132620902280208* -->\n<g id=\"node2\" class=\"node\">\n<title>132620902280208*</title>\n<ellipse fill=\"none\" stroke=\"black\" cx=\"2674\" cy=\"-98.5\" rx=\"27\" ry=\"18\"/>\n<text text-anchor=\"middle\" x=\"2674\" y=\"-94.8\" font-family=\"Times,serif\" font-size=\"14.00\">*</text>\n</g>\n<!-- 132620902280208*&#45;&gt;132620902280208 -->\n<g id=\"edge1\" class=\"edge\">\n<title>132620902280208*&#45;&gt;132620902280208</title>\n<path fill=\"none\" stroke=\"black\" d=\"M2701.04,-98.5C2708.58,-98.5 2717.3,-98.5 2726.57,-98.5\"/>\n<polygon fill=\"black\" stroke=\"black\" points=\"2726.81,-102 2736.81,-98.5 2726.81,-95 2726.81,-102\"/>\n</g>\n<!-- 132620902278160 -->\n<g id=\"node3\" class=\"node\">\n<title>132620902278160</title>\n<polygon fill=\"none\" stroke=\"black\" points=\"1058.5,-109.5 1058.5,-145.5 1240.5,-145.5 1240.5,-109.5 1058.5,-109.5\"/>\n<text text-anchor=\"middle\" x=\"1068.5\" y=\"-123.8\" font-family=\"Times,serif\" font-size=\"14.00\"> </text>\n<polyline fill=\"none\" stroke=\"black\" points=\"1078.5,-109.5 1078.5,-145.5 \"/>\n<text text-anchor=\"middle\" x=\"1118.5\" y=\"-123.8\" font-family=\"Times,serif\" font-size=\"14.00\">data 2.0000</text>\n<polyline fill=\"none\" stroke=\"black\" points=\"1158.5,-109.5 1158.5,-145.5 \"/>\n<text text-anchor=\"middle\" x=\"1199.5\" y=\"-123.8\" font-family=\"Times,serif\" font-size=\"14.00\">grad 0.0016</text>\n</g>\n<!-- 132620902279632* -->\n<g id=\"node28\" class=\"node\">\n<title>132620902279632*</title>\n<ellipse fill=\"none\" stroke=\"black\" cx=\"1305\" cy=\"-99.5\" rx=\"27\" ry=\"18\"/>\n<text text-anchor=\"middle\" x=\"1305\" y=\"-95.8\" font-family=\"Times,serif\" font-size=\"14.00\">*</text>\n</g>\n<!-- 132620902278160&#45;&gt;132620902279632* -->\n<g id=\"edge27\" class=\"edge\">\n<title>132620902278160&#45;&gt;132620902279632*</title>\n<path fill=\"none\" stroke=\"black\" d=\"M1240.68,-111.05C1250.61,-109.24 1260.23,-107.48 1268.84,-105.91\"/>\n<polygon fill=\"black\" stroke=\"black\" points=\"1269.6,-109.33 1278.81,-104.09 1268.35,-102.45 1269.6,-109.33\"/>\n</g>\n<!-- 132620902279696 -->\n<g id=\"node4\" class=\"node\">\n<title>132620902279696</title>\n<polygon fill=\"none\" stroke=\"black\" points=\"1057,-54.5 1057,-90.5 1242,-90.5 1242,-54.5 1057,-54.5\"/>\n<text text-anchor=\"middle\" x=\"1068.5\" y=\"-68.8\" font-family=\"Times,serif\" font-size=\"14.00\">n</text>\n<polyline fill=\"none\" stroke=\"black\" points=\"1080,-54.5 1080,-90.5 \"/>\n<text text-anchor=\"middle\" x=\"1120\" y=\"-68.8\" font-family=\"Times,serif\" font-size=\"14.00\">data 0.8814</text>\n<polyline fill=\"none\" stroke=\"black\" points=\"1160,-54.5 1160,-90.5 \"/>\n<text text-anchor=\"middle\" x=\"1201\" y=\"-68.8\" font-family=\"Times,serif\" font-size=\"14.00\">grad 0.0037</text>\n</g>\n<!-- 132620902279696&#45;&gt;132620902279632* -->\n<g id=\"edge15\" class=\"edge\">\n<title>132620902279696&#45;&gt;132620902279632*</title>\n<path fill=\"none\" stroke=\"black\" d=\"M1242.01,-88.6C1251.49,-90.26 1260.66,-91.88 1268.9,-93.33\"/>\n<polygon fill=\"black\" stroke=\"black\" points=\"1268.36,-96.78 1278.81,-95.07 1269.57,-89.89 1268.36,-96.78\"/>\n</g>\n<!-- 132620902279696+ -->\n<g id=\"node5\" class=\"node\">\n<title>132620902279696+</title>\n<ellipse fill=\"none\" stroke=\"black\" cx=\"994\" cy=\"-72.5\" rx=\"27\" ry=\"18\"/>\n<text text-anchor=\"middle\" x=\"994\" y=\"-68.8\" font-family=\"Times,serif\" font-size=\"14.00\">+</text>\n</g>\n<!-- 132620902279696+&#45;&gt;132620902279696 -->\n<g id=\"edge2\" class=\"edge\">\n<title>132620902279696+&#45;&gt;132620902279696</title>\n<path fill=\"none\" stroke=\"black\" d=\"M1021.04,-72.5C1028.58,-72.5 1037.3,-72.5 1046.57,-72.5\"/>\n<polygon fill=\"black\" stroke=\"black\" points=\"1046.81,-76 1056.81,-72.5 1046.81,-69 1046.81,-76\"/>\n</g>\n<!-- 132620902279248 -->\n<g id=\"node6\" class=\"node\">\n<title>132620902279248</title>\n<polygon fill=\"none\" stroke=\"black\" points=\"1678.5,-81.5 1678.5,-117.5 1860.5,-117.5 1860.5,-81.5 1678.5,-81.5\"/>\n<text text-anchor=\"middle\" x=\"1688.5\" y=\"-95.8\" font-family=\"Times,serif\" font-size=\"14.00\"> </text>\n<polyline fill=\"none\" stroke=\"black\" points=\"1698.5,-81.5 1698.5,-117.5 \"/>\n<text text-anchor=\"middle\" x=\"1738.5\" y=\"-95.8\" font-family=\"Times,serif\" font-size=\"14.00\">data 5.8284</text>\n<polyline fill=\"none\" stroke=\"black\" points=\"1778.5,-81.5 1778.5,-117.5 \"/>\n<text text-anchor=\"middle\" x=\"1819.5\" y=\"-95.8\" font-family=\"Times,serif\" font-size=\"14.00\">grad 0.0429</text>\n</g>\n<!-- 132620902279760+ -->\n<g id=\"node10\" class=\"node\">\n<title>132620902279760+</title>\n<ellipse fill=\"none\" stroke=\"black\" cx=\"1926\" cy=\"-71.5\" rx=\"27\" ry=\"18\"/>\n<text text-anchor=\"middle\" x=\"1926\" y=\"-67.8\" font-family=\"Times,serif\" font-size=\"14.00\">+</text>\n</g>\n<!-- 132620902279248&#45;&gt;132620902279760+ -->\n<g id=\"edge13\" class=\"edge\">\n<title>132620902279248&#45;&gt;132620902279760+</title>\n<path fill=\"none\" stroke=\"black\" d=\"M1860.82,-83.13C1871.07,-81.27 1881.01,-79.47 1889.88,-77.87\"/>\n<polygon fill=\"black\" stroke=\"black\" points=\"1890.54,-81.3 1899.75,-76.08 1889.29,-74.42 1890.54,-81.3\"/>\n</g>\n<!-- 132620902278992+ -->\n<g id=\"node21\" class=\"node\">\n<title>132620902278992+</title>\n<ellipse fill=\"none\" stroke=\"black\" cx=\"1926\" cy=\"-126.5\" rx=\"27\" ry=\"18\"/>\n<text text-anchor=\"middle\" x=\"1926\" y=\"-122.8\" font-family=\"Times,serif\" font-size=\"14.00\">+</text>\n</g>\n<!-- 132620902279248&#45;&gt;132620902278992+ -->\n<g id=\"edge14\" class=\"edge\">\n<title>132620902279248&#45;&gt;132620902278992+</title>\n<path fill=\"none\" stroke=\"black\" d=\"M1860.82,-115.28C1871.07,-117.08 1881.01,-118.81 1889.88,-120.36\"/>\n<polygon fill=\"black\" stroke=\"black\" points=\"1889.3,-123.81 1899.75,-122.09 1890.5,-116.92 1889.3,-123.81\"/>\n</g>\n<!-- 132620902279248exp -->\n<g id=\"node7\" class=\"node\">\n<title>132620902279248exp</title>\n<ellipse fill=\"none\" stroke=\"black\" cx=\"1613\" cy=\"-99.5\" rx=\"27\" ry=\"18\"/>\n<text text-anchor=\"middle\" x=\"1613\" y=\"-95.8\" font-family=\"Times,serif\" font-size=\"14.00\">exp</text>\n</g>\n<!-- 132620902279248exp&#45;&gt;132620902279248 -->\n<g id=\"edge3\" class=\"edge\">\n<title>132620902279248exp&#45;&gt;132620902279248</title>\n<path fill=\"none\" stroke=\"black\" d=\"M1640.21,-99.5C1648.34,-99.5 1657.85,-99.5 1667.94,-99.5\"/>\n<polygon fill=\"black\" stroke=\"black\" points=\"1668.19,-103 1678.19,-99.5 1668.19,-96 1668.19,-103\"/>\n</g>\n<!-- 132620902278736 -->\n<g id=\"node8\" class=\"node\">\n<title>132620902278736</title>\n<polygon fill=\"none\" stroke=\"black\" points=\"1676.5,-136.5 1676.5,-172.5 1862.5,-172.5 1862.5,-136.5 1676.5,-136.5\"/>\n<text text-anchor=\"middle\" x=\"1686.5\" y=\"-150.8\" font-family=\"Times,serif\" font-size=\"14.00\"> </text>\n<polyline fill=\"none\" stroke=\"black\" points=\"1696.5,-136.5 1696.5,-172.5 \"/>\n<text text-anchor=\"middle\" x=\"1736.5\" y=\"-150.8\" font-family=\"Times,serif\" font-size=\"14.00\">data 1.0000</text>\n<polyline fill=\"none\" stroke=\"black\" points=\"1776.5,-136.5 1776.5,-172.5 \"/>\n<text text-anchor=\"middle\" x=\"1819.5\" y=\"-150.8\" font-family=\"Times,serif\" font-size=\"14.00\">grad &#45;0.1036</text>\n</g>\n<!-- 132620902278736&#45;&gt;132620902278992+ -->\n<g id=\"edge16\" class=\"edge\">\n<title>132620902278736&#45;&gt;132620902278992+</title>\n<path fill=\"none\" stroke=\"black\" d=\"M1862.6,-137.81C1872.15,-136.08 1881.37,-134.41 1889.68,-132.9\"/>\n<polygon fill=\"black\" stroke=\"black\" points=\"1890.43,-136.32 1899.65,-131.09 1889.18,-129.43 1890.43,-136.32\"/>\n</g>\n<!-- 132620902279760 -->\n<g id=\"node9\" class=\"node\">\n<title>132620902279760</title>\n<polygon fill=\"none\" stroke=\"black\" points=\"2211,-53.5 2211,-89.5 2393,-89.5 2393,-53.5 2211,-53.5\"/>\n<text text-anchor=\"middle\" x=\"2221\" y=\"-67.8\" font-family=\"Times,serif\" font-size=\"14.00\"> </text>\n<polyline fill=\"none\" stroke=\"black\" points=\"2231,-53.5 2231,-89.5 \"/>\n<text text-anchor=\"middle\" x=\"2271\" y=\"-67.8\" font-family=\"Times,serif\" font-size=\"14.00\">data 4.8284</text>\n<polyline fill=\"none\" stroke=\"black\" points=\"2311,-53.5 2311,-89.5 \"/>\n<text text-anchor=\"middle\" x=\"2352\" y=\"-67.8\" font-family=\"Times,serif\" font-size=\"14.00\">grad 0.1464</text>\n</g>\n<!-- 132620902279760&#45;&gt;132620902280208* -->\n<g id=\"edge11\" class=\"edge\">\n<title>132620902279760&#45;&gt;132620902280208*</title>\n<path fill=\"none\" stroke=\"black\" d=\"M2393.04,-78.07C2471.41,-83.79 2580.98,-91.79 2636.96,-95.87\"/>\n<polygon fill=\"black\" stroke=\"black\" points=\"2636.87,-99.37 2647.1,-96.61 2637.38,-92.39 2636.87,-99.37\"/>\n</g>\n<!-- 132620902279760+&#45;&gt;132620902279760 -->\n<g id=\"edge4\" class=\"edge\">\n<title>132620902279760+&#45;&gt;132620902279760</title>\n<path fill=\"none\" stroke=\"black\" d=\"M1953,-71.5C2003.46,-71.5 2117.06,-71.5 2200.81,-71.5\"/>\n<polygon fill=\"black\" stroke=\"black\" points=\"2200.87,-75 2210.87,-71.5 2200.87,-68 2200.87,-75\"/>\n</g>\n<!-- 132620902283920 -->\n<g id=\"node11\" class=\"node\">\n<title>132620902283920</title>\n<polygon fill=\"none\" stroke=\"black\" points=\"1676,-26.5 1676,-62.5 1863,-62.5 1863,-26.5 1676,-26.5\"/>\n<text text-anchor=\"middle\" x=\"1686\" y=\"-40.8\" font-family=\"Times,serif\" font-size=\"14.00\"> </text>\n<polyline fill=\"none\" stroke=\"black\" points=\"1696,-26.5 1696,-62.5 \"/>\n<text text-anchor=\"middle\" x=\"1738.5\" y=\"-40.8\" font-family=\"Times,serif\" font-size=\"14.00\">data &#45;1.0000</text>\n<polyline fill=\"none\" stroke=\"black\" points=\"1781,-26.5 1781,-62.5 \"/>\n<text text-anchor=\"middle\" x=\"1822\" y=\"-40.8\" font-family=\"Times,serif\" font-size=\"14.00\">grad 0.1464</text>\n</g>\n<!-- 132620902283920&#45;&gt;132620902279760+ -->\n<g id=\"edge17\" class=\"edge\">\n<title>132620902283920&#45;&gt;132620902279760+</title>\n<path fill=\"none\" stroke=\"black\" d=\"M1863.05,-60.67C1872.34,-62.3 1881.33,-63.87 1889.44,-65.29\"/>\n<polygon fill=\"black\" stroke=\"black\" points=\"1889.1,-68.78 1899.55,-67.05 1890.3,-61.88 1889.1,-68.78\"/>\n</g>\n<!-- 132620902277840 -->\n<g id=\"node12\" class=\"node\">\n<title>132620902277840</title>\n<polygon fill=\"none\" stroke=\"black\" points=\"0,-165.5 0,-201.5 200,-201.5 200,-165.5 0,-165.5\"/>\n<text text-anchor=\"middle\" x=\"16.5\" y=\"-179.8\" font-family=\"Times,serif\" font-size=\"14.00\">w1</text>\n<polyline fill=\"none\" stroke=\"black\" points=\"33,-165.5 33,-201.5 \"/>\n<text text-anchor=\"middle\" x=\"75.5\" y=\"-179.8\" font-family=\"Times,serif\" font-size=\"14.00\">data &#45;3.0000</text>\n<polyline fill=\"none\" stroke=\"black\" points=\"118,-165.5 118,-201.5 \"/>\n<text text-anchor=\"middle\" x=\"159\" y=\"-179.8\" font-family=\"Times,serif\" font-size=\"14.00\">grad 0.0074</text>\n</g>\n<!-- 132620902277520* -->\n<g id=\"node14\" class=\"node\">\n<title>132620902277520*</title>\n<ellipse fill=\"none\" stroke=\"black\" cx=\"263\" cy=\"-128.5\" rx=\"27\" ry=\"18\"/>\n<text text-anchor=\"middle\" x=\"263\" y=\"-124.8\" font-family=\"Times,serif\" font-size=\"14.00\">*</text>\n</g>\n<!-- 132620902277840&#45;&gt;132620902277520* -->\n<g id=\"edge24\" class=\"edge\">\n<title>132620902277840&#45;&gt;132620902277520*</title>\n<path fill=\"none\" stroke=\"black\" d=\"M172.53,-165.44C181.84,-162.67 191.2,-159.67 200,-156.5 210.53,-152.71 221.75,-147.9 231.72,-143.33\"/>\n<polygon fill=\"black\" stroke=\"black\" points=\"233.25,-146.48 240.82,-139.07 230.28,-140.14 233.25,-146.48\"/>\n</g>\n<!-- 132620902277520 -->\n<g id=\"node13\" class=\"node\">\n<title>132620902277520</title>\n<polygon fill=\"none\" stroke=\"black\" points=\"326,-110.5 326,-146.5 546,-146.5 546,-110.5 326,-110.5\"/>\n<text text-anchor=\"middle\" x=\"352.5\" y=\"-124.8\" font-family=\"Times,serif\" font-size=\"14.00\">x1*w1</text>\n<polyline fill=\"none\" stroke=\"black\" points=\"379,-110.5 379,-146.5 \"/>\n<text text-anchor=\"middle\" x=\"421.5\" y=\"-124.8\" font-family=\"Times,serif\" font-size=\"14.00\">data &#45;6.0000</text>\n<polyline fill=\"none\" stroke=\"black\" points=\"464,-110.5 464,-146.5 \"/>\n<text text-anchor=\"middle\" x=\"505\" y=\"-124.8\" font-family=\"Times,serif\" font-size=\"14.00\">grad 0.0037</text>\n</g>\n<!-- 132620902278544+ -->\n<g id=\"node25\" class=\"node\">\n<title>132620902278544+</title>\n<ellipse fill=\"none\" stroke=\"black\" cx=\"609\" cy=\"-100.5\" rx=\"27\" ry=\"18\"/>\n<text text-anchor=\"middle\" x=\"609\" y=\"-96.8\" font-family=\"Times,serif\" font-size=\"14.00\">+</text>\n</g>\n<!-- 132620902277520&#45;&gt;132620902278544+ -->\n<g id=\"edge28\" class=\"edge\">\n<title>132620902277520&#45;&gt;132620902278544+</title>\n<path fill=\"none\" stroke=\"black\" d=\"M546.27,-110.61C555.64,-109.07 564.6,-107.61 572.65,-106.29\"/>\n<polygon fill=\"black\" stroke=\"black\" points=\"573.35,-109.72 582.65,-104.65 572.22,-102.81 573.35,-109.72\"/>\n</g>\n<!-- 132620902277520*&#45;&gt;132620902277520 -->\n<g id=\"edge5\" class=\"edge\">\n<title>132620902277520*&#45;&gt;132620902277520</title>\n<path fill=\"none\" stroke=\"black\" d=\"M290.34,-128.5C297.77,-128.5 306.37,-128.5 315.6,-128.5\"/>\n<polygon fill=\"black\" stroke=\"black\" points=\"315.84,-132 325.84,-128.5 315.84,-125 315.84,-132\"/>\n</g>\n<!-- 132620902270736 -->\n<g id=\"node15\" class=\"node\">\n<title>132620902270736</title>\n<polygon fill=\"none\" stroke=\"black\" points=\"2429,-106.5 2429,-142.5 2611,-142.5 2611,-106.5 2429,-106.5\"/>\n<text text-anchor=\"middle\" x=\"2439\" y=\"-120.8\" font-family=\"Times,serif\" font-size=\"14.00\"> </text>\n<polyline fill=\"none\" stroke=\"black\" points=\"2449,-106.5 2449,-142.5 \"/>\n<text text-anchor=\"middle\" x=\"2489\" y=\"-120.8\" font-family=\"Times,serif\" font-size=\"14.00\">data 0.1464</text>\n<polyline fill=\"none\" stroke=\"black\" points=\"2529,-106.5 2529,-142.5 \"/>\n<text text-anchor=\"middle\" x=\"2570\" y=\"-120.8\" font-family=\"Times,serif\" font-size=\"14.00\">grad 4.8284</text>\n</g>\n<!-- 132620902270736&#45;&gt;132620902280208* -->\n<g id=\"edge26\" class=\"edge\">\n<title>132620902270736&#45;&gt;132620902280208*</title>\n<path fill=\"none\" stroke=\"black\" d=\"M2611.18,-109.08C2620.42,-107.49 2629.38,-105.96 2637.47,-104.58\"/>\n<polygon fill=\"black\" stroke=\"black\" points=\"2638.29,-107.99 2647.56,-102.85 2637.11,-101.09 2638.29,-107.99\"/>\n</g>\n<!-- 132620902270736**&#45;1 -->\n<g id=\"node16\" class=\"node\">\n<title>132620902270736**&#45;1</title>\n<ellipse fill=\"none\" stroke=\"black\" cx=\"2302\" cy=\"-126.5\" rx=\"27\" ry=\"18\"/>\n<text text-anchor=\"middle\" x=\"2302\" y=\"-122.8\" font-family=\"Times,serif\" font-size=\"14.00\">**&#45;1</text>\n</g>\n<!-- 132620902270736**&#45;1&#45;&gt;132620902270736 -->\n<g id=\"edge6\" class=\"edge\">\n<title>132620902270736**&#45;1&#45;&gt;132620902270736</title>\n<path fill=\"none\" stroke=\"black\" d=\"M2329.05,-126.26C2351.53,-126.05 2385.48,-125.74 2418.5,-125.43\"/>\n<polygon fill=\"black\" stroke=\"black\" points=\"2418.74,-128.93 2428.7,-125.34 2418.67,-121.93 2418.74,-128.93\"/>\n</g>\n<!-- 132620902278928 -->\n<g id=\"node17\" class=\"node\">\n<title>132620902278928</title>\n<polygon fill=\"none\" stroke=\"black\" points=\"328.5,-55.5 328.5,-91.5 543.5,-91.5 543.5,-55.5 328.5,-55.5\"/>\n<text text-anchor=\"middle\" x=\"355\" y=\"-69.8\" font-family=\"Times,serif\" font-size=\"14.00\">x2*w2</text>\n<polyline fill=\"none\" stroke=\"black\" points=\"381.5,-55.5 381.5,-91.5 \"/>\n<text text-anchor=\"middle\" x=\"421.5\" y=\"-69.8\" font-family=\"Times,serif\" font-size=\"14.00\">data 0.0000</text>\n<polyline fill=\"none\" stroke=\"black\" points=\"461.5,-55.5 461.5,-91.5 \"/>\n<text text-anchor=\"middle\" x=\"502.5\" y=\"-69.8\" font-family=\"Times,serif\" font-size=\"14.00\">grad 0.0037</text>\n</g>\n<!-- 132620902278928&#45;&gt;132620902278544+ -->\n<g id=\"edge12\" class=\"edge\">\n<title>132620902278928&#45;&gt;132620902278544+</title>\n<path fill=\"none\" stroke=\"black\" d=\"M543.84,-90.37C554.01,-91.98 563.76,-93.51 572.44,-94.89\"/>\n<polygon fill=\"black\" stroke=\"black\" points=\"572.05,-98.37 582.47,-96.47 573.14,-91.45 572.05,-98.37\"/>\n</g>\n<!-- 132620902278928* -->\n<g id=\"node18\" class=\"node\">\n<title>132620902278928*</title>\n<ellipse fill=\"none\" stroke=\"black\" cx=\"263\" cy=\"-73.5\" rx=\"27\" ry=\"18\"/>\n<text text-anchor=\"middle\" x=\"263\" y=\"-69.8\" font-family=\"Times,serif\" font-size=\"14.00\">*</text>\n</g>\n<!-- 132620902278928*&#45;&gt;132620902278928 -->\n<g id=\"edge7\" class=\"edge\">\n<title>132620902278928*&#45;&gt;132620902278928</title>\n<path fill=\"none\" stroke=\"black\" d=\"M290.34,-73.5C298.51,-73.5 308.08,-73.5 318.36,-73.5\"/>\n<polygon fill=\"black\" stroke=\"black\" points=\"318.39,-77 328.39,-73.5 318.39,-70 318.39,-77\"/>\n</g>\n<!-- 132620902279952 -->\n<g id=\"node19\" class=\"node\">\n<title>132620902279952</title>\n<polygon fill=\"none\" stroke=\"black\" points=\"2.5,-55.5 2.5,-91.5 197.5,-91.5 197.5,-55.5 2.5,-55.5\"/>\n<text text-anchor=\"middle\" x=\"19\" y=\"-69.8\" font-family=\"Times,serif\" font-size=\"14.00\">w2</text>\n<polyline fill=\"none\" stroke=\"black\" points=\"35.5,-55.5 35.5,-91.5 \"/>\n<text text-anchor=\"middle\" x=\"75.5\" y=\"-69.8\" font-family=\"Times,serif\" font-size=\"14.00\">data 1.0000</text>\n<polyline fill=\"none\" stroke=\"black\" points=\"115.5,-55.5 115.5,-91.5 \"/>\n<text text-anchor=\"middle\" x=\"156.5\" y=\"-69.8\" font-family=\"Times,serif\" font-size=\"14.00\">grad 0.0000</text>\n</g>\n<!-- 132620902279952&#45;&gt;132620902278928* -->\n<g id=\"edge21\" class=\"edge\">\n<title>132620902279952&#45;&gt;132620902278928*</title>\n<path fill=\"none\" stroke=\"black\" d=\"M197.91,-73.5C207.65,-73.5 217.05,-73.5 225.52,-73.5\"/>\n<polygon fill=\"black\" stroke=\"black\" points=\"225.7,-77 235.7,-73.5 225.7,-70 225.7,-77\"/>\n</g>\n<!-- 132620902278992 -->\n<g id=\"node20\" class=\"node\">\n<title>132620902278992</title>\n<polygon fill=\"none\" stroke=\"black\" points=\"1989,-108.5 1989,-144.5 2175,-144.5 2175,-108.5 1989,-108.5\"/>\n<text text-anchor=\"middle\" x=\"1999\" y=\"-122.8\" font-family=\"Times,serif\" font-size=\"14.00\"> </text>\n<polyline fill=\"none\" stroke=\"black\" points=\"2009,-108.5 2009,-144.5 \"/>\n<text text-anchor=\"middle\" x=\"2049\" y=\"-122.8\" font-family=\"Times,serif\" font-size=\"14.00\">data 6.8284</text>\n<polyline fill=\"none\" stroke=\"black\" points=\"2089,-108.5 2089,-144.5 \"/>\n<text text-anchor=\"middle\" x=\"2132\" y=\"-122.8\" font-family=\"Times,serif\" font-size=\"14.00\">grad &#45;0.1036</text>\n</g>\n<!-- 132620902278992&#45;&gt;132620902270736**&#45;1 -->\n<g id=\"edge25\" class=\"edge\">\n<title>132620902278992&#45;&gt;132620902270736**&#45;1</title>\n<path fill=\"none\" stroke=\"black\" d=\"M2175.14,-126.5C2206.72,-126.5 2240.24,-126.5 2264.74,-126.5\"/>\n<polygon fill=\"black\" stroke=\"black\" points=\"2264.98,-130 2274.98,-126.5 2264.98,-123 2264.98,-130\"/>\n</g>\n<!-- 132620902278992+&#45;&gt;132620902278992 -->\n<g id=\"edge8\" class=\"edge\">\n<title>132620902278992+&#45;&gt;132620902278992</title>\n<path fill=\"none\" stroke=\"black\" d=\"M1953.12,-126.5C1960.62,-126.5 1969.29,-126.5 1978.5,-126.5\"/>\n<polygon fill=\"black\" stroke=\"black\" points=\"1978.69,-130 1988.69,-126.5 1978.69,-123 1978.69,-130\"/>\n</g>\n<!-- 132620902412112 -->\n<g id=\"node22\" class=\"node\">\n<title>132620902412112</title>\n<polygon fill=\"none\" stroke=\"black\" points=\"2,-110.5 2,-146.5 198,-146.5 198,-110.5 2,-110.5\"/>\n<text text-anchor=\"middle\" x=\"17\" y=\"-124.8\" font-family=\"Times,serif\" font-size=\"14.00\">x1</text>\n<polyline fill=\"none\" stroke=\"black\" points=\"32,-110.5 32,-146.5 \"/>\n<text text-anchor=\"middle\" x=\"72\" y=\"-124.8\" font-family=\"Times,serif\" font-size=\"14.00\">data 2.0000</text>\n<polyline fill=\"none\" stroke=\"black\" points=\"112,-110.5 112,-146.5 \"/>\n<text text-anchor=\"middle\" x=\"155\" y=\"-124.8\" font-family=\"Times,serif\" font-size=\"14.00\">grad &#45;0.0110</text>\n</g>\n<!-- 132620902412112&#45;&gt;132620902277520* -->\n<g id=\"edge18\" class=\"edge\">\n<title>132620902412112&#45;&gt;132620902277520*</title>\n<path fill=\"none\" stroke=\"black\" d=\"M198.37,-128.5C208.05,-128.5 217.4,-128.5 225.8,-128.5\"/>\n<polygon fill=\"black\" stroke=\"black\" points=\"225.91,-132 235.91,-128.5 225.91,-125 225.91,-132\"/>\n</g>\n<!-- 132620911552848 -->\n<g id=\"node23\" class=\"node\">\n<title>132620911552848</title>\n<polygon fill=\"none\" stroke=\"black\" points=\"4,-0.5 4,-36.5 196,-36.5 196,-0.5 4,-0.5\"/>\n<text text-anchor=\"middle\" x=\"19\" y=\"-14.8\" font-family=\"Times,serif\" font-size=\"14.00\">x2</text>\n<polyline fill=\"none\" stroke=\"black\" points=\"34,-0.5 34,-36.5 \"/>\n<text text-anchor=\"middle\" x=\"74\" y=\"-14.8\" font-family=\"Times,serif\" font-size=\"14.00\">data 0.0000</text>\n<polyline fill=\"none\" stroke=\"black\" points=\"114,-0.5 114,-36.5 \"/>\n<text text-anchor=\"middle\" x=\"155\" y=\"-14.8\" font-family=\"Times,serif\" font-size=\"14.00\">grad 0.0037</text>\n</g>\n<!-- 132620911552848&#45;&gt;132620902278928* -->\n<g id=\"edge23\" class=\"edge\">\n<title>132620911552848&#45;&gt;132620902278928*</title>\n<path fill=\"none\" stroke=\"black\" d=\"M172.53,-36.56C181.84,-39.33 191.2,-42.33 200,-45.5 210.53,-49.29 221.75,-54.1 231.72,-58.67\"/>\n<polygon fill=\"black\" stroke=\"black\" points=\"230.28,-61.86 240.82,-62.93 233.25,-55.52 230.28,-61.86\"/>\n</g>\n<!-- 132620902278544 -->\n<g id=\"node24\" class=\"node\">\n<title>132620902278544</title>\n<polygon fill=\"none\" stroke=\"black\" points=\"672,-82.5 672,-118.5 931,-118.5 931,-82.5 672,-82.5\"/>\n<text text-anchor=\"middle\" x=\"718\" y=\"-96.8\" font-family=\"Times,serif\" font-size=\"14.00\">x1w1 + x2w2</text>\n<polyline fill=\"none\" stroke=\"black\" points=\"764,-82.5 764,-118.5 \"/>\n<text text-anchor=\"middle\" x=\"806.5\" y=\"-96.8\" font-family=\"Times,serif\" font-size=\"14.00\">data &#45;6.0000</text>\n<polyline fill=\"none\" stroke=\"black\" points=\"849,-82.5 849,-118.5 \"/>\n<text text-anchor=\"middle\" x=\"890\" y=\"-96.8\" font-family=\"Times,serif\" font-size=\"14.00\">grad 0.0037</text>\n</g>\n<!-- 132620902278544&#45;&gt;132620902279696+ -->\n<g id=\"edge20\" class=\"edge\">\n<title>132620902278544&#45;&gt;132620902279696+</title>\n<path fill=\"none\" stroke=\"black\" d=\"M925.03,-82.49C936.7,-80.77 947.77,-79.15 957.46,-77.72\"/>\n<polygon fill=\"black\" stroke=\"black\" points=\"958.01,-81.18 967.4,-76.26 957,-74.25 958.01,-81.18\"/>\n</g>\n<!-- 132620902278544+&#45;&gt;132620902278544 -->\n<g id=\"edge9\" class=\"edge\">\n<title>132620902278544+&#45;&gt;132620902278544</title>\n<path fill=\"none\" stroke=\"black\" d=\"M636.09,-100.5C643.58,-100.5 652.3,-100.5 661.75,-100.5\"/>\n<polygon fill=\"black\" stroke=\"black\" points=\"661.84,-104 671.84,-100.5 661.84,-97 661.84,-104\"/>\n</g>\n<!-- 132620902283664 -->\n<g id=\"node26\" class=\"node\">\n<title>132620902283664</title>\n<polygon fill=\"none\" stroke=\"black\" points=\"709,-27.5 709,-63.5 894,-63.5 894,-27.5 709,-27.5\"/>\n<text text-anchor=\"middle\" x=\"720.5\" y=\"-41.8\" font-family=\"Times,serif\" font-size=\"14.00\">b</text>\n<polyline fill=\"none\" stroke=\"black\" points=\"732,-27.5 732,-63.5 \"/>\n<text text-anchor=\"middle\" x=\"772\" y=\"-41.8\" font-family=\"Times,serif\" font-size=\"14.00\">data 6.8814</text>\n<polyline fill=\"none\" stroke=\"black\" points=\"812,-27.5 812,-63.5 \"/>\n<text text-anchor=\"middle\" x=\"853\" y=\"-41.8\" font-family=\"Times,serif\" font-size=\"14.00\">grad 0.0037</text>\n</g>\n<!-- 132620902283664&#45;&gt;132620902279696+ -->\n<g id=\"edge22\" class=\"edge\">\n<title>132620902283664&#45;&gt;132620902279696+</title>\n<path fill=\"none\" stroke=\"black\" d=\"M894.12,-58.49C916.59,-61.67 939.33,-64.89 957.33,-67.44\"/>\n<polygon fill=\"black\" stroke=\"black\" points=\"956.95,-70.93 967.34,-68.86 957.93,-63.99 956.95,-70.93\"/>\n</g>\n<!-- 132620902279632 -->\n<g id=\"node27\" class=\"node\">\n<title>132620902279632</title>\n<polygon fill=\"none\" stroke=\"black\" points=\"1368,-81.5 1368,-117.5 1550,-117.5 1550,-81.5 1368,-81.5\"/>\n<text text-anchor=\"middle\" x=\"1378\" y=\"-95.8\" font-family=\"Times,serif\" font-size=\"14.00\"> </text>\n<polyline fill=\"none\" stroke=\"black\" points=\"1388,-81.5 1388,-117.5 \"/>\n<text text-anchor=\"middle\" x=\"1428\" y=\"-95.8\" font-family=\"Times,serif\" font-size=\"14.00\">data 1.7627</text>\n<polyline fill=\"none\" stroke=\"black\" points=\"1468,-81.5 1468,-117.5 \"/>\n<text text-anchor=\"middle\" x=\"1509\" y=\"-95.8\" font-family=\"Times,serif\" font-size=\"14.00\">grad 0.0018</text>\n</g>\n<!-- 132620902279632&#45;&gt;132620902279248exp -->\n<g id=\"edge19\" class=\"edge\">\n<title>132620902279632&#45;&gt;132620902279248exp</title>\n<path fill=\"none\" stroke=\"black\" d=\"M1550.18,-99.5C1559.14,-99.5 1567.83,-99.5 1575.73,-99.5\"/>\n<polygon fill=\"black\" stroke=\"black\" points=\"1575.96,-103 1585.96,-99.5 1575.96,-96 1575.96,-103\"/>\n</g>\n<!-- 132620902279632*&#45;&gt;132620902279632 -->\n<g id=\"edge10\" class=\"edge\">\n<title>132620902279632*&#45;&gt;132620902279632</title>\n<path fill=\"none\" stroke=\"black\" d=\"M1332.13,-99.5C1339.67,-99.5 1348.39,-99.5 1357.64,-99.5\"/>\n<polygon fill=\"black\" stroke=\"black\" points=\"1357.87,-103 1367.87,-99.5 1357.87,-96 1357.87,-103\"/>\n</g>\n</g>\n</svg>\n",
            "text/plain": [
              "<graphviz.graphs.Digraph at 0x789e35c52ed0>"
            ]
          },
          "metadata": {},
          "execution_count": 7
        }
      ]
    },
    {
      "cell_type": "code",
      "source": [
        "import torch"
      ],
      "metadata": {
        "id": "OdQ1iyXvqLQE"
      },
      "execution_count": null,
      "outputs": []
    },
    {
      "cell_type": "code",
      "source": [
        "x1 = torch.Tensor([2.0]).double() ; x1.requires_grad =  True\n",
        "x2 = torch.Tensor([0.0]).double() ; x2.requires_grad = True\n",
        "w1 = torch.Tensor([-3.0]).double() ; w1.requires_grad = True\n",
        "w2 = torch.Tensor([1.0]).double() ; w2.requires_grad = True\n",
        "b = torch.Tensor([6.8813735870195432]).double() ; b.requires_grad = True\n",
        "n = x1*w1 + x2*w2 + b\n",
        "o = torch.tanh(n)\n",
        "\n",
        "print(o.data.item())\n",
        "o.backward()\n",
        "\n",
        "print('-----')\n",
        "print('x2', x2.grad.item())\n",
        "print('w2', w2.grad.item())\n",
        "print('x1', x1.grad.item())\n",
        "print('w1', w1.grad.item())\n"
      ],
      "metadata": {
        "colab": {
          "base_uri": "https://localhost:8080/"
        },
        "id": "1-WG6xzC0hh7",
        "outputId": "0a3a2264-aad4-459e-ea85-176320079575"
      },
      "execution_count": null,
      "outputs": [
        {
          "output_type": "stream",
          "name": "stdout",
          "text": [
            "0.7071066904050358\n",
            "-----\n",
            "x2 0.5000001283844369\n",
            "w2 0.0\n",
            "x1 -1.5000003851533106\n",
            "w1 1.0000002567688737\n"
          ]
        }
      ]
    },
    {
      "cell_type": "code",
      "source": [
        "import random\n",
        "\n",
        "class Neuron():\n",
        "\n",
        "  def __init__(self, nin):\n",
        "    self.w = [Value(random.uniform(-1,1)) for _ in range(nin)]\n",
        "    self.b = Value(random.uniform(-1,1))\n",
        "\n",
        "  def __call__(self,x):\n",
        "    act = sum((wi*xi for wi, xi in zip(self.w, x)), self.b)\n",
        "    out = act.tanh()\n",
        "    return out\n",
        "\n",
        "  def parameters(self):\n",
        "    return self.w + [self.b]\n",
        "\n",
        "class Layer:\n",
        "\n",
        "  def __init__(self, nin, nout):\n",
        "    self.neurons = [Neuron(nin) for _ in range(nout)]\n",
        "\n",
        "  def __call__(self, x):\n",
        "    outs = [n(x) for n in self.neurons]\n",
        "    return outs[0] if len(outs) == 1 else outs\n",
        "\n",
        "  def parameters(self):\n",
        "    return [p for neuron in self.neurons for p in neuron.parameters()]\n",
        "\n",
        "\n",
        "class MLP:\n",
        "\n",
        "  def __init__(self, nin, nouts):\n",
        "    sz = [nin] + nouts\n",
        "    self.layers = [Layer(sz[i], sz[i + 1]) for i in range(len(nouts))]\n",
        "\n",
        "  def __call__(self, x):\n",
        "    for layer in self.layers:\n",
        "      x = layer(x)\n",
        "    return x\n",
        "\n",
        "  def parameters(self):\n",
        "    return [p for layer in self.layers for p in layer.parameters()]"
      ],
      "metadata": {
        "id": "Vvn2B8-02nK3"
      },
      "execution_count": null,
      "outputs": []
    },
    {
      "cell_type": "code",
      "source": [
        "x = [2.0, 3.0, -1.0]\n",
        "n = MLP(3, [4,4,1])\n",
        "n(x)"
      ],
      "metadata": {
        "colab": {
          "base_uri": "https://localhost:8080/"
        },
        "id": "4UN4_TG40fPf",
        "outputId": "fc57e4fc-76ed-42ba-ee0b-5ce1a537a38f"
      },
      "execution_count": null,
      "outputs": [
        {
          "output_type": "execute_result",
          "data": {
            "text/plain": [
              "Value(data=-0.0955346384483344)"
            ]
          },
          "metadata": {},
          "execution_count": 49
        }
      ]
    },
    {
      "cell_type": "code",
      "source": [
        "n.parameters()"
      ],
      "metadata": {
        "colab": {
          "base_uri": "https://localhost:8080/"
        },
        "id": "BG5sT8E20o85",
        "outputId": "ff58cc48-0a45-4bac-adbd-690d6e20fd8c"
      },
      "execution_count": null,
      "outputs": [
        {
          "output_type": "execute_result",
          "data": {
            "text/plain": [
              "[Value(data=0.1817230509298291),\n",
              " Value(data=-0.6352825676895251),\n",
              " Value(data=-0.3494176507825155),\n",
              " Value(data=0.9433099024256493),\n",
              " Value(data=0.3284092021884346),\n",
              " Value(data=0.816726699781867),\n",
              " Value(data=-0.0625288531638104),\n",
              " Value(data=-0.07397234989070856),\n",
              " Value(data=0.961326872135573),\n",
              " Value(data=-0.058523048770034336),\n",
              " Value(data=0.7924332648018755),\n",
              " Value(data=0.47807946088506426),\n",
              " Value(data=0.3310617423072517),\n",
              " Value(data=0.36040656673145555),\n",
              " Value(data=-0.657607430340684),\n",
              " Value(data=0.3049757728710776),\n",
              " Value(data=-0.12597873957702688),\n",
              " Value(data=0.9221161995755947),\n",
              " Value(data=0.5378174929828501),\n",
              " Value(data=-0.3386608279745378),\n",
              " Value(data=-0.7962218438491542),\n",
              " Value(data=0.5404814304700372),\n",
              " Value(data=0.3953081902079296),\n",
              " Value(data=0.9436733790545446),\n",
              " Value(data=0.06878959256000483),\n",
              " Value(data=-0.5604531154793784),\n",
              " Value(data=0.4359570220234579),\n",
              " Value(data=-0.2715346921934103),\n",
              " Value(data=0.2373827429345956),\n",
              " Value(data=-0.35138961324481355),\n",
              " Value(data=0.17464689240468667),\n",
              " Value(data=-0.8193633064412535),\n",
              " Value(data=0.6888530447168721),\n",
              " Value(data=0.48463193694011863),\n",
              " Value(data=0.6505879475855096),\n",
              " Value(data=0.5277683395236741),\n",
              " Value(data=-0.9620062864548786),\n",
              " Value(data=-0.6385643823046911),\n",
              " Value(data=0.9010022387502234),\n",
              " Value(data=0.8270201618523267),\n",
              " Value(data=0.008293357816564706)]"
            ]
          },
          "metadata": {},
          "execution_count": 50
        }
      ]
    },
    {
      "cell_type": "code",
      "source": [
        "xs = [\n",
        "    [2.0, 3.0, -1.0],\n",
        "    [3.0, -1.0, 0.5],\n",
        "    [0.5, 1.0, 1.0],\n",
        "    [1.0, 1.0, -1.0],\n",
        "]\n",
        "\n",
        "ys = [1.0, -1.0, -1.0, 1.0]\n",
        "ypred = [n(x) for x in xs]\n",
        "ypred"
      ],
      "metadata": {
        "colab": {
          "base_uri": "https://localhost:8080/"
        },
        "id": "pUAT9fhOwb-V",
        "outputId": "246406fe-0015-4155-a8c7-6ffe92bc508e"
      },
      "execution_count": null,
      "outputs": [
        {
          "output_type": "execute_result",
          "data": {
            "text/plain": [
              "[Value(data=-0.0955346384483344),\n",
              " Value(data=0.7333300725068016),\n",
              " Value(data=0.2880385186199652),\n",
              " Value(data=0.5061426680288885)]"
            ]
          },
          "metadata": {},
          "execution_count": 51
        }
      ]
    },
    {
      "cell_type": "code",
      "source": [
        "for k in range(30):\n",
        "  ypred = [n(x) for x in xs]\n",
        "  loss = sum(((yout - ygt) ** 2 for ygt, yout in zip(ys, ypred)), start=(Value(0.0)))\n",
        "\n",
        "  for p in n.parameters():\n",
        "    p.grad = 0.0\n",
        "  loss.backward()\n",
        "\n",
        "  for p in n.parameters():\n",
        "    p.data += -0.05 * p.grad\n",
        "  print(k, loss.data)"
      ],
      "metadata": {
        "colab": {
          "base_uri": "https://localhost:8080/"
        },
        "id": "9U2-iTuUxMZM",
        "outputId": "833e2b46-f992-4196-86a5-4ce6b605bac5"
      },
      "execution_count": null,
      "outputs": [
        {
          "output_type": "stream",
          "name": "stdout",
          "text": [
            "0 1.015793106176461e-10\n",
            "1 1.015793105765026e-10\n",
            "2 1.0157931053535911e-10\n",
            "3 1.0157931049421562e-10\n",
            "4 1.0157931045307212e-10\n",
            "5 1.0157931041192862e-10\n",
            "6 1.0157931037078512e-10\n",
            "7 1.0157931032964162e-10\n",
            "8 1.0157931028849814e-10\n",
            "9 1.0157931024735464e-10\n",
            "10 1.0157931020621114e-10\n",
            "11 1.0157931016506764e-10\n",
            "12 1.0157931012392414e-10\n",
            "13 1.0157931008278064e-10\n",
            "14 1.0157931004163715e-10\n",
            "15 1.015793099989112e-10\n",
            "16 1.015793099577677e-10\n",
            "17 1.015793099166242e-10\n",
            "18 1.015793098754807e-10\n",
            "19 1.0157930983275477e-10\n",
            "20 1.0157930979161127e-10\n",
            "21 1.0157930975046779e-10\n",
            "22 1.0157930970932429e-10\n",
            "23 1.0157930966818079e-10\n",
            "24 1.0157930962703729e-10\n",
            "25 1.015793095858938e-10\n",
            "26 1.015793095447503e-10\n",
            "27 1.015793095036068e-10\n",
            "28 1.015793094624633e-10\n",
            "29 1.015793094213198e-10\n"
          ]
        }
      ]
    },
    {
      "cell_type": "code",
      "source": [
        "ypred"
      ],
      "metadata": {
        "colab": {
          "base_uri": "https://localhost:8080/"
        },
        "id": "qVxrIEtq31ob",
        "outputId": "a57117f4-7f88-45a7-a96f-bb5d88b2d51f"
      },
      "execution_count": null,
      "outputs": [
        {
          "output_type": "execute_result",
          "data": {
            "text/plain": [
              "[Value(data=0.9999928733139029),\n",
              " Value(data=-1.0),\n",
              " Value(data=-1.0),\n",
              " Value(data=0.9999928733139052)]"
            ]
          },
          "metadata": {},
          "execution_count": 114
        }
      ]
    },
    {
      "cell_type": "code",
      "source": [],
      "metadata": {
        "id": "qnbvk2U834dq"
      },
      "execution_count": null,
      "outputs": []
    }
  ]
}